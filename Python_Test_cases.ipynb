{
 "cells": [
  {
   "cell_type": "markdown",
   "id": "bf89ec85",
   "metadata": {},
   "source": [
    "Case Study 1: Student Grade Calculator\n",
    "You are tasked with creating a program to calculate the average grade of students in a class. Each student has a name and a list of grades. The program should display the average grade for each student and determine if they pass (average grade >= 60) or fail."
   ]
  },
  {
   "cell_type": "code",
   "execution_count": 1,
   "id": "3aecf502",
   "metadata": {},
   "outputs": [
    {
     "name": "stdout",
     "output_type": "stream",
     "text": [
      "Enter the number of students: 1\n",
      "Enter the name of student 1: Anuj\n",
      "Enter the number of grades: 4\n",
      "Enter grade: 87\n",
      "Enter grade: 74\n",
      "Enter grade: 88\n",
      "Enter grade: 75\n",
      "Anuj: Average Grade = 81.0, Result = Pass\n"
     ]
    }
   ],
   "source": [
    "def calculate_average_grade(grades):\n",
    "    total_grades = sum(grades)\n",
    "    return total_grades / len(grades)\n",
    "\n",
    "def is_passing(average_grade):\n",
    "    return average_grade >= 60\n",
    "\n",
    "students = []\n",
    "grades = []\n",
    "\n",
    "def Student_Grade():\n",
    "    num_students = int(input(\"Enter the number of students: \"))\n",
    "    \n",
    "\n",
    "    for i in range(num_students):\n",
    "        name = input(f\"Enter the name of student {i+1}: \")\n",
    "        num_grades = int(input(\"Enter the number of grades: \"))\n",
    "        for _ in range(num_grades):\n",
    "            grade = float(input(\"Enter grade: \"))\n",
    "            grades.append(grade)\n",
    "        average_grade = calculate_average_grade(grades)\n",
    "\n",
    "        if is_passing(average_grade):\n",
    "            result = \"Pass\"\n",
    "        else:\n",
    "            result = \"Fail\"\n",
    "        print(f\"{name}: Average Grade = {average_grade}, Result = {result}\")\n",
    "\n",
    "Student_Grade()"
   ]
  },
  {
   "cell_type": "markdown",
   "id": "fdd73c90",
   "metadata": {},
   "source": [
    "Case Study 2: Library Catalog\n",
    "Create a simple library catalog system. Use a dictionary to store information about books (title, author, and available copies). Implement functions to check out and return books, and display the current status of the library catalog."
   ]
  },
  {
   "cell_type": "code",
   "execution_count": 2,
   "id": "fec53923",
   "metadata": {},
   "outputs": [
    {
     "name": "stdout",
     "output_type": "stream",
     "text": [
      "\n",
      "1. Display Library Catalog\n",
      "2. Checkout a Book\n",
      "3. Return a Book\n",
      "4. Exit\n",
      "Enter your choice: 1\n",
      "Current Library Catalog:\n",
      "Title: Autobiography of a Yogi, Author: Paramahansa Yogananda, Copies Available: 5\n",
      "Title: Harry Potter, Author: J.K. Rowling, Copies Available: 3\n",
      "Title: Pride and Prejudice, Author: Jane Austen, Copies Available: 2\n",
      "\n",
      "1. Display Library Catalog\n",
      "2. Checkout a Book\n",
      "3. Return a Book\n",
      "4. Exit\n",
      "Enter your choice: 4\n",
      "Exiting program. Goodbye!\n"
     ]
    }
   ],
   "source": [
    "library_catalog = {\n",
    "    \"Autobiography of a Yogi\": {\"author\": \"Paramahansa Yogananda\", \"copies\": 5},\n",
    "    \"Harry Potter\": {\"author\": \"J.K. Rowling\", \"copies\": 3},\n",
    "    \"Pride and Prejudice\": {\"author\": \"Jane Austen\", \"copies\": 2}\n",
    "}\n",
    "\n",
    "def display_catalog():\n",
    "    print(\"Current Library Catalog:\")\n",
    "    for title, info in library_catalog.items():\n",
    "        print(f\"Title: {title}, Author: {info['author']}, Copies Available: {info['copies']}\")\n",
    "\n",
    "def checkout_book(title):\n",
    "    if title in library_catalog and library_catalog[title][\"copies\"] > 0:\n",
    "        library_catalog[title][\"copies\"] -= 1\n",
    "        print(f\"You have checked out '{title}'. Enjoy reading!\")\n",
    "    else:\n",
    "        print(f\"Sorry, '{title}' is either not available or all copies have been checked out.\")\n",
    "\n",
    "def return_book(title):\n",
    "    if title in library_catalog:\n",
    "        library_catalog[title][\"copies\"] += 1\n",
    "        print(f\"Thank you for returning '{title}'.\")\n",
    "    else:\n",
    "        print(f\"Invalid title: '{title}'.\")\n",
    "\n",
    "def Library_Catalog():\n",
    "    while True:\n",
    "        print(\"\\n1. Display Library Catalog\")\n",
    "        print(\"2. Checkout a Book\")\n",
    "        print(\"3. Return a Book\")\n",
    "        print(\"4. Exit\")\n",
    "\n",
    "        choice = input(\"Enter your choice: \")\n",
    "\n",
    "        if choice == \"1\":\n",
    "            display_catalog()\n",
    "        elif choice == \"2\":\n",
    "            title = input(\"Enter the title of the book you want to checkout: \")\n",
    "            checkout_book(title)\n",
    "        elif choice == \"3\":\n",
    "            title = input(\"Enter the title of the book you want to return: \")\n",
    "            return_book(title)\n",
    "        elif choice == \"4\":\n",
    "            print(\"Exiting program. Goodbye!\")\n",
    "            break\n",
    "        else:\n",
    "            print(\"Invalid choice. Please enter a number between 1 and 4.\")\n",
    "\n",
    "Library_Catalog()"
   ]
  },
  {
   "cell_type": "markdown",
   "id": "351eaeab",
   "metadata": {},
   "source": [
    "Case Study 3: Temperature Converter\n",
    "Build a temperature converter program that can convert temperatures between Celsius and Fahrenheit. Use functions to perform the conversion, and allow the user to choose the conversion direction. Implement error handling to handle invalid inputs."
   ]
  },
  {
   "cell_type": "code",
   "execution_count": 3,
   "id": "ef527a2a",
   "metadata": {},
   "outputs": [
    {
     "name": "stdout",
     "output_type": "stream",
     "text": [
      "\n",
      "Temperature Converter\n",
      "1. Celsius to Fahrenheit\n",
      "2. Fahrenheit to Celsius\n",
      "3. Exit\n",
      "Enter your choice (1/2/3): 1\n",
      "Enter temperature in Celsius: 35\n",
      "35.0°C is equal to 95.0°F\n",
      "\n",
      "Temperature Converter\n",
      "1. Celsius to Fahrenheit\n",
      "2. Fahrenheit to Celsius\n",
      "3. Exit\n",
      "Enter your choice (1/2/3): 3\n",
      "Exiting program.\n"
     ]
    }
   ],
   "source": [
    "def celsius_to_fahrenheit(celsius):\n",
    "    return (celsius * 9/5) + 32\n",
    "\n",
    "def fahrenheit_to_celsius(fahrenheit):\n",
    "    return (fahrenheit - 32) * 5/9\n",
    "\n",
    "def temperature_Converter():\n",
    "    while True:\n",
    "        print(\"\\nTemperature Converter\")\n",
    "        print(\"1. Celsius to Fahrenheit\")\n",
    "        print(\"2. Fahrenheit to Celsius\")\n",
    "        print(\"3. Exit\")\n",
    "\n",
    "        choice = input(\"Enter your choice (1/2/3): \")\n",
    "\n",
    "        if choice == \"1\":\n",
    "            try:\n",
    "                celsius = float(input(\"Enter temperature in Celsius: \"))\n",
    "                fahrenheit = celsius_to_fahrenheit(celsius)\n",
    "                print(f\"{celsius}°C is equal to {fahrenheit}°F\")\n",
    "            except ValueError:\n",
    "                print(\"Invalid input. Please enter a number.\")\n",
    "        elif choice == \"2\":\n",
    "            try:\n",
    "                fahrenheit = float(input(\"Enter temperature in Fahrenheit: \"))\n",
    "                celsius = fahrenheit_to_celsius(fahrenheit)\n",
    "                print(f\"{fahrenheit}°F is equal to {celsius}°C\")\n",
    "            except ValueError:\n",
    "                print(\"Invalid input. Please enter a number.\")\n",
    "        elif choice == \"3\":\n",
    "            print(\"Exiting program.\")\n",
    "            break\n",
    "        else:\n",
    "            print(\"Invalid choice. Please enter 1, 2, or 3.\")\n",
    "\n",
    "temperature_Converter()"
   ]
  },
  {
   "cell_type": "markdown",
   "id": "55eaa5c9",
   "metadata": {},
   "source": []
  },
  {
   "cell_type": "code",
   "execution_count": 4,
   "id": "95110fa5",
   "metadata": {},
   "outputs": [
    {
     "name": "stdout",
     "output_type": "stream",
     "text": [
      "\n",
      "Shopping Cart Menu:\n",
      "1. Display Available Items\n",
      "2. Add Item to Cart\n",
      "3. Remove Item from Cart\n",
      "4. Display Cart\n",
      "5. Checkout\n",
      "6. Exit\n",
      "Enter your choice (1-6): 1\n",
      "Available Items:\n",
      "1. Apple - $0.5\n",
      "2. Banana - $0.3\n",
      "3. Orange - $0.7\n",
      "4. Mango - $1.2\n",
      "\n",
      "Shopping Cart Menu:\n",
      "1. Display Available Items\n",
      "2. Add Item to Cart\n",
      "3. Remove Item from Cart\n",
      "4. Display Cart\n",
      "5. Checkout\n",
      "6. Exit\n",
      "Enter your choice (1-6): 6\n",
      "Exiting program. Goodbye!\n"
     ]
    }
   ],
   "source": []
  },
  {
   "cell_type": "markdown",
   "id": "656b2d3e",
   "metadata": {},
   "source": [
    "Case Study 5: ATM Simulator\n",
    "Create a simple ATM simulator program. Use functions to simulate actions like checking balance, withdrawing money, and depositing money. Implement error handling for insufficient funds and invalid inputs."
   ]
  },
  {
   "cell_type": "code",
   "execution_count": 5,
   "id": "63dc93a9",
   "metadata": {},
   "outputs": [
    {
     "name": "stdout",
     "output_type": "stream",
     "text": [
      "\n",
      "ATM Menu:\n",
      "1. Check Balance\n",
      "2. Withdraw Money\n",
      "3. Deposit Money\n",
      "4. Exit\n",
      "Enter your choice (1-4): 1\n",
      "Your current balance is 1000.0\n",
      "\n",
      "ATM Menu:\n",
      "1. Check Balance\n",
      "2. Withdraw Money\n",
      "3. Deposit Money\n",
      "4. Exit\n",
      "Enter your choice (1-4): 4\n",
      "Exiting program. Goodbye!\n"
     ]
    }
   ],
   "source": [
    "def check_balance(balance):\n",
    "    print(f\"Your current balance is {balance}\")\n",
    "\n",
    "def withdraw(balance, amount):\n",
    "    if amount > balance:\n",
    "        print(\"Insufficient funds. Withdrawal cancelled.\")\n",
    "    else:\n",
    "        balance -= amount\n",
    "        print(f\"Withdrawal successful. Remaining balance: ${balance}\")\n",
    "    return balance\n",
    "\n",
    "def deposit(balance, amount):\n",
    "    balance += amount\n",
    "    print(f\"Deposit of ${amount} successful. Current balance: ${balance}\")\n",
    "    return balance\n",
    "\n",
    "def ATM_Simulator():\n",
    "    balance = 1000.00  # initial balance\n",
    "\n",
    "    while True:\n",
    "        print(\"\\nATM Menu:\")\n",
    "        print(\"1. Check Balance\")\n",
    "        print(\"2. Withdraw Money\")\n",
    "        print(\"3. Deposit Money\")\n",
    "        print(\"4. Exit\")\n",
    "\n",
    "        choice = input(\"Enter your choice (1-4): \")\n",
    "\n",
    "        if choice == \"1\":\n",
    "            check_balance(balance)\n",
    "        elif choice == \"2\":\n",
    "            try:\n",
    "                amount = float(input(\"Enter the amount to withdraw: $\"))\n",
    "                balance = withdraw(balance, amount)\n",
    "            except ValueError:\n",
    "                print(\"Invalid input. Please enter a valid amount.\")\n",
    "        elif choice == \"3\":\n",
    "            try:\n",
    "                amount = float(input(\"Enter the amount to deposit: $\"))\n",
    "                balance = deposit(balance, amount)\n",
    "            except ValueError:\n",
    "                print(\"Invalid input. Please enter a valid amount.\")\n",
    "        elif choice == \"4\":\n",
    "            print(\"Exiting program. Goodbye!\")\n",
    "            break\n",
    "        else:\n",
    "            print(\"Invalid choice. Please enter a number between 1 and 4.\")\n",
    "\n",
    "ATM_Simulator()"
   ]
  },
  {
   "cell_type": "code",
   "execution_count": null,
   "id": "ad8881a5",
   "metadata": {},
   "outputs": [],
   "source": []
  }
 ],
 "metadata": {
  "kernelspec": {
   "display_name": "Python 3 (ipykernel)",
   "language": "python",
   "name": "python3"
  },
  "language_info": {
   "codemirror_mode": {
    "name": "ipython",
    "version": 3
   },
   "file_extension": ".py",
   "mimetype": "text/x-python",
   "name": "python",
   "nbconvert_exporter": "python",
   "pygments_lexer": "ipython3",
   "version": "3.11.3"
  }
 },
 "nbformat": 4,
 "nbformat_minor": 5
}
